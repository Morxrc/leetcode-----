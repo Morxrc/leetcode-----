{
 "cells": [
  {
   "cell_type": "markdown",
   "metadata": {},
   "source": [
    "# [相交链表](https://leetcode-cn.com/problems/intersection-of-two-linked-lists/submissions/)\n",
    "\n",
    "判断两个链表是否相交:\n",
    "\n",
    "    1.假设headA = a + c,headB = b + c,a+c+b= b+c+a,将循环到末尾后，再连到另外一个链表的表头进行遍历判断即可\n",
    "    2.判断链表末尾是否相同\n",
    "    \n",
    "其他问题:\n",
    "\n",
    "    1.大多数问题: 定义一个头结点不动(最后返回p.next),另外一个结点Cur用于添加结点or处理信息"
   ]
  },
  {
   "cell_type": "code",
   "execution_count": 1,
   "metadata": {},
   "outputs": [],
   "source": [
    "# Definition for singly-linked list.\n",
    "# class ListNode(object):\n",
    "#     def __init__(self, x):\n",
    "#         self.val = x\n",
    "#         self.next = None\n",
    "\n",
    "class Solution(object):\n",
    "    def getIntersectionNode(self, headA, headB):\n",
    "        \"\"\"\n",
    "        :type head1, head1: ListNode\n",
    "        :rtype: ListNode\n",
    "        \"\"\"\n",
    "        p1 = headA\n",
    "        p2 = headB\n",
    "        while p1 != p2:\n",
    "            p1 = headB if p1 is None else p1.next #如果p1循环结束则从heabB头部开始\n",
    "            p2 = headA if p2 is None else p2.next \n",
    "        return p1"
   ]
  },
  {
   "cell_type": "markdown",
   "metadata": {},
   "source": [
    "# [合并两个有序链表](https://leetcode-cn.com/problems/merge-two-sorted-lists/submissions/)"
   ]
  },
  {
   "cell_type": "code",
   "execution_count": null,
   "metadata": {},
   "outputs": [],
   "source": [
    "# Definition for singly-linked list.\n",
    "# class ListNode(object):\n",
    "#     def __init__(self, x):\n",
    "#         self.val = x\n",
    "#         self.next = None\n",
    "\n",
    "class Solution(object):\n",
    "    def mergeTwoLists(self, l1, l2):\n",
    "        \"\"\"\n",
    "        :type l1: ListNode\n",
    "        :type l2: ListNode\n",
    "        :rtype: ListNode\n",
    "        \"\"\"\n",
    "        #定义一个头节点，然后一个一只跟随移动的节点\n",
    "        re_ = ListNode(-1)\n",
    "        node = re_\n",
    "        while l1 and l2:\n",
    "            if l1.val<l2.val:\n",
    "                node.next,l1 = l1,l1.next\n",
    "            else:\n",
    "                nodel.next,l2 = l2,l2.next\n",
    "            node = node.next\n",
    "        if l1:\n",
    "            node.next = l1\n",
    "        else:\n",
    "            node.next = l2\n",
    "        return re_.next "
   ]
  },
  {
   "cell_type": "markdown",
   "metadata": {},
   "source": [
    "# [删除排序链表中的重复元素](https://leetcode-cn.com/problems/remove-duplicates-from-sorted-list/submissions/)"
   ]
  },
  {
   "cell_type": "code",
   "execution_count": null,
   "metadata": {},
   "outputs": [],
   "source": [
    "# Definition for singly-linked list.\n",
    "# class ListNode(object):\n",
    "#     def __init__(self, x):\n",
    "#         self.val = x\n",
    "#         self.next = None\n",
    "\n",
    "class Solution(object):\n",
    "    def deleteDuplicates(self, head):\n",
    "        \"\"\"\n",
    "        :type head: ListNode\n",
    "        :rtype: ListNode\n",
    "        \"\"\"\n",
    "        if head ==None or head.next==None:\n",
    "            return head\n",
    "        cur_ = head\n",
    "        while(cur_.next):\n",
    "            if cur_.next.val == cur_.val:\n",
    "                cur_.next = cur_.next.next\n",
    "            else:\n",
    "                cur_ = cur_.next\n",
    "        return head"
   ]
  },
  {
   "cell_type": "markdown",
   "metadata": {},
   "source": [
    "# [删除链表的倒数第N个节点](https://leetcode-cn.com/problems/remove-nth-node-from-end-of-list/)\n",
    "\n",
    "两个指针快慢即可"
   ]
  },
  {
   "cell_type": "code",
   "execution_count": null,
   "metadata": {},
   "outputs": [],
   "source": [
    "# Definition for singly-linked list.\n",
    "# class ListNode(object):\n",
    "#     def __init__(self, x):\n",
    "#         self.val = x\n",
    "#         self.next = None\n",
    "\n",
    "class Solution(object):\n",
    "    def removeNthFromEnd(self, head, n):\n",
    "        \"\"\"\n",
    "        :type head: ListNode\n",
    "        :type n: int\n",
    "        :rtype: ListNode\n",
    "        \"\"\"\n",
    "        fast = head\n",
    "        slow = head\n",
    "        while(n>0):\n",
    "            fast = fast.next\n",
    "            n-=1\n",
    "        if fast==None:return head.next\n",
    "        while(fast.next!=None):\n",
    "            fast = fast.next\n",
    "            slow = slow.next\n",
    "        slow.next = slow.next.next\n",
    "        return head"
   ]
  },
  {
   "cell_type": "markdown",
   "metadata": {},
   "source": [
    "# [两两交换链表中的节点](https://leetcode-cn.com/problems/swap-nodes-in-pairs/)"
   ]
  },
  {
   "cell_type": "code",
   "execution_count": null,
   "metadata": {},
   "outputs": [],
   "source": [
    "# Definition for singly-linked list.\n",
    "# class ListNode(object):\n",
    "#     def __init__(self, x):\n",
    "#         self.val = x\n",
    "#         self.next = None\n",
    "\n",
    "class Solution(object):\n",
    "    def swapPairs(self, head):\n",
    "        \"\"\"\n",
    "        :type head: ListNode\n",
    "        :rtype: ListNode\n",
    "        \"\"\"\n",
    "        if head==None or head.next==None:\n",
    "            return head\n",
    "\n",
    "        node = ListNode(-1)\n",
    "        node.next = head\n",
    "        pre = node\n",
    "\n",
    "        while(pre.next != None and pre.next.next !=None):\n",
    "            l1,l2 = pre.next,pre.next.next\n",
    "            pre.next = l2\n",
    "            l1.next = l2.next\n",
    "            l2.next = l1\n",
    "            pre = l1\n",
    "\n",
    "        return node.next"
   ]
  },
  {
   "cell_type": "code",
   "execution_count": null,
   "metadata": {},
   "outputs": [],
   "source": []
  },
  {
   "cell_type": "code",
   "execution_count": null,
   "metadata": {},
   "outputs": [],
   "source": []
  }
 ],
 "metadata": {
  "kernelspec": {
   "display_name": "Python 3",
   "language": "python",
   "name": "python3"
  },
  "language_info": {
   "codemirror_mode": {
    "name": "ipython",
    "version": 3
   },
   "file_extension": ".py",
   "mimetype": "text/x-python",
   "name": "python",
   "nbconvert_exporter": "python",
   "pygments_lexer": "ipython3",
   "version": "3.7.4"
  }
 },
 "nbformat": 4,
 "nbformat_minor": 2
}
