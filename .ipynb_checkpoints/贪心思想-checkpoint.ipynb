{
 "cells": [
  {
   "cell_type": "markdown",
   "metadata": {},
   "source": [
    "## 贪心思想\n",
    "\n",
    "保证每次的操作都是局部最优的，并且最后得到的是全局最优"
   ]
  },
  {
   "cell_type": "markdown",
   "metadata": {},
   "source": [
    "# [分发饼干](https://leetcode-cn.com/problems/assign-cookies/submissions/)"
   ]
  },
  {
   "cell_type": "code",
   "execution_count": 38,
   "metadata": {},
   "outputs": [],
   "source": [
    "class Solution(object):\n",
    "    def findContentChildren(self, g, s):\n",
    "        \"\"\"\n",
    "        :type g: List[int]\n",
    "        :type s: List[int]\n",
    "        :rtype: int\n",
    "        \"\"\"\n",
    "        g.sort()\n",
    "        s.sort()\n",
    "        re,j = 0,0\n",
    "        for i in range(len(s)):\n",
    "            if j >= len(g):break\n",
    "            elif s[i] >= g[j]:\n",
    "                re+=1\n",
    "                j+=1\n",
    "        return re\n"
   ]
  },
  {
   "cell_type": "markdown",
   "metadata": {},
   "source": [
    "按照区间的结尾进行排序，每一次选择结尾最小且与前面不重叠的区间\n",
    "\n",
    "# [无重叠区间](https://leetcode-cn.com/problems/non-overlapping-intervals/submissions/)"
   ]
  },
  {
   "cell_type": "code",
   "execution_count": 128,
   "metadata": {},
   "outputs": [],
   "source": [
    "from collections import defaultdict\n",
    "class Solution(object):\n",
    "    def eraseOverlapIntervals(self, intervals):\n",
    "        \"\"\"\n",
    "        :type intervals: List[List[int]]\n",
    "        :rtype: int\n",
    "        \"\"\"\n",
    "        a = intervals\n",
    "        total = len(a)\n",
    "        dict_a = defaultdict(list)\n",
    "        for i in range(len(a)):\n",
    "            dict_a[a[i][1]].append(a[i][0])\n",
    "            \n",
    "        dict_a = sorted(dict_a.items())\n",
    "\n",
    "        re = 0\n",
    "        lst = -1e9\n",
    "        for i in range(len(dict_a)):\n",
    "            temp = dict_a[i][1]\n",
    "            temp.sort()\n",
    "            for j in temp:\n",
    "                if j>=lst:\n",
    "                    lst = dict_a[i][0]\n",
    "                    re+=1\n",
    "                    break\n",
    "        return total-re"
   ]
  },
  {
   "cell_type": "markdown",
   "metadata": {},
   "source": [
    "# [用最少数量的箭引爆气球](https://leetcode-cn.com/problems/minimum-number-of-arrows-to-burst-balloons/solution/)"
   ]
  },
  {
   "cell_type": "code",
   "execution_count": 156,
   "metadata": {},
   "outputs": [
    {
     "data": {
      "text/plain": [
       "2"
      ]
     },
     "execution_count": 156,
     "metadata": {},
     "output_type": "execute_result"
    }
   ],
   "source": [
    "from collections import defaultdict\n",
    "class Solution(object):\n",
    "    def findMinArrowShots(self, points):\n",
    "        \"\"\"\n",
    "        :type points: List[List[int]]\n",
    "        :rtype: int\n",
    "        \"\"\"\n",
    "        a = points\n",
    "        total = len(a)\n",
    "        dict_a = defaultdict(list)\n",
    "        for i in range(len(a)):\n",
    "            dict_a[a[i][1]].append(a[i][0])\n",
    "        dict_a = sorted(dict_a.items())\n",
    "\n",
    "        lst = -1e19\n",
    "        re = 0\n",
    "        for i in range(len(dict_a)):\n",
    "            temp = dict_a[i][1]\n",
    "            temp.sort()\n",
    "            for j in temp:\n",
    "                if j<= lst:\n",
    "                    re+=1\n",
    "                else:\n",
    "                    lst = dict_a[i][0]\n",
    "        return total-re"
   ]
  },
  {
   "cell_type": "markdown",
   "metadata": {},
   "source": [
    "# [买卖股票最大的收益](https://leetcode-cn.com/problems/best-time-to-buy-and-sell-stock/submissions/)"
   ]
  },
  {
   "cell_type": "code",
   "execution_count": null,
   "metadata": {},
   "outputs": [],
   "source": [
    "class Solution(object):\n",
    "    def maxProfit(self, prices):\n",
    "        \"\"\"\n",
    "        :type prices: List[int]\n",
    "        :rtype: int\n",
    "        \"\"\"\n",
    "        min_ = 1e9\n",
    "        re_ = 0 \n",
    "        for price in prices:\n",
    "            if price < min_:\n",
    "                min_ = price\n",
    "            re_ = max(price - min_,re_)\n",
    "        return re_"
   ]
  },
  {
   "cell_type": "markdown",
   "metadata": {},
   "source": [
    "# [买卖股票的最佳时机 II](https://leetcode-cn.com/problems/best-time-to-buy-and-sell-stock-ii/submissions/)"
   ]
  },
  {
   "cell_type": "code",
   "execution_count": 1,
   "metadata": {},
   "outputs": [],
   "source": [
    "class Solution(object):\n",
    "    def maxProfit(self, prices):\n",
    "        \"\"\"\n",
    "        :type prices: List[int]\n",
    "        :rtype: int\n",
    "        \"\"\"\n",
    "        re_ = 0\n",
    "        try:\n",
    "            for i in range(len(prices)-1):\n",
    "                temp = prices[i+1] - prices[i]\n",
    "                if temp >0:\n",
    "                    re_ += temp\n",
    "            return re_\n",
    "        except:\n",
    "            return re_"
   ]
  },
  {
   "cell_type": "markdown",
   "metadata": {},
   "source": [
    "# [种花问题](https://leetcode-cn.com/problems/can-place-flowers/submissions/)\n",
    "\n",
    "注意第一个为0和最后一个为0的情况，分别加1即可。"
   ]
  },
  {
   "cell_type": "code",
   "execution_count": 19,
   "metadata": {},
   "outputs": [],
   "source": [
    "class Solution(object):\n",
    "    def canPlaceFlowers(self, flowerbed, n):\n",
    "        \"\"\"\n",
    "        :type flowerbed: List[int]\n",
    "        :type n: int\n",
    "        :rtype: bool\n",
    "        \"\"\"\n",
    "        cnt = 1\n",
    "        re_ = 0\n",
    "        for num in flowerbed:\n",
    "            if num == 0:\n",
    "                cnt+=1\n",
    "            else:\n",
    "                re_ += (cnt-1)//2 if cnt!=0 else 0\n",
    "                cnt = 0\n",
    "        re_ += (cnt)//2 if cnt!=0 else 0\n",
    "        return re_>=n"
   ]
  },
  {
   "cell_type": "markdown",
   "metadata": {},
   "source": [
    "# [判断子序列](https://leetcode-cn.com/submissions/detail/46639617/)"
   ]
  },
  {
   "cell_type": "code",
   "execution_count": 22,
   "metadata": {},
   "outputs": [],
   "source": [
    "class Solution(object):\n",
    "    def isSubsequence(self, s, t):\n",
    "        \"\"\"\n",
    "        :type s: str\n",
    "        :type t: str\n",
    "        :rtype: bool\n",
    "        \"\"\"\n",
    "        len_s = len(s)\n",
    "        if len_s == 0:\n",
    "            return True\n",
    "        re_ = 0\n",
    "        for i in t:\n",
    "            if re_ == len_s:\n",
    "                return True\n",
    "            if i == s[re_]:\n",
    "                re_+=1\n",
    "\n",
    "        return len_s == re_"
   ]
  },
  {
   "cell_type": "markdown",
   "metadata": {},
   "source": [
    "# [最大子序和](https://leetcode-cn.com/problems/maximum-subarray/solution/)\n",
    "\n",
    "注意全为负值的情况，因此z初始化为max(nums)即可"
   ]
  },
  {
   "cell_type": "code",
   "execution_count": 23,
   "metadata": {},
   "outputs": [],
   "source": [
    "class Solution(object):\n",
    "    def maxSubArray(self, nums):\n",
    "        \"\"\"\n",
    "        :type nums: List[int]\n",
    "        :rtype: int\n",
    "        \"\"\"\n",
    "        re_ = 0\n",
    "        z = max(nums)\n",
    "        for num in nums:\n",
    "            if re_ + num <0:\n",
    "                re_ = 0\n",
    "            else:\n",
    "                re_ = re_ + num\n",
    "                z = max(z,re_)\n",
    "        return z        "
   ]
  }
 ],
 "metadata": {
  "kernelspec": {
   "display_name": "Python 3",
   "language": "python",
   "name": "python3"
  },
  "language_info": {
   "codemirror_mode": {
    "name": "ipython",
    "version": 3
   },
   "file_extension": ".py",
   "mimetype": "text/x-python",
   "name": "python",
   "nbconvert_exporter": "python",
   "pygments_lexer": "ipython3",
   "version": "3.7.4"
  }
 },
 "nbformat": 4,
 "nbformat_minor": 2
}
