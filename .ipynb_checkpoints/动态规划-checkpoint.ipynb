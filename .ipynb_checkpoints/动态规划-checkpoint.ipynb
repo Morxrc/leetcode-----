{
 "cells": [
  {
   "cell_type": "markdown",
   "metadata": {},
   "source": [
    "# [爬楼梯](https://leetcode-cn.com/problems/climbing-stairs/description/)"
   ]
  },
  {
   "cell_type": "code",
   "execution_count": 1,
   "metadata": {},
   "outputs": [],
   "source": [
    "class Solution(object):\n",
    "    def climbStairs(self, n):\n",
    "        \"\"\"\n",
    "        :type n: int\n",
    "        :rtype: int\n",
    "        \"\"\"\n",
    "        re_ = [1,1]\n",
    "        try:\n",
    "            for i in range(2,n+1):\n",
    "                re_.append(re_[i-1]+re_[i-2])\n",
    "        except:\n",
    "            pass\n",
    "        return re_[n]"
   ]
  },
  {
   "cell_type": "markdown",
   "metadata": {},
   "source": [
    "# [打家劫舍](https://leetcode-cn.com/problems/house-robber/)"
   ]
  },
  {
   "cell_type": "code",
   "execution_count": 2,
   "metadata": {},
   "outputs": [],
   "source": [
    "class Solution(object):\n",
    "    def rob(self, nums):\n",
    "        \"\"\"\n",
    "        :type nums: List[int]\n",
    "        :rtype: int\n",
    "        \"\"\"\n",
    "        dp = [0]*(len(nums)+1)\n",
    "        for i in range(len(nums)+1):\n",
    "            if i == 0:\n",
    "                dp[i] = 0\n",
    "            elif i==1:\n",
    "                dp[i] = nums[0]\n",
    "            else:\n",
    "                dp[i] = max(dp[i-1],dp[i-2]+nums[i-1])\n",
    "        return dp[-1]"
   ]
  },
  {
   "cell_type": "markdown",
   "metadata": {},
   "source": [
    "# [打家劫舍2](https://leetcode-cn.com/problems/house-robber-ii/submissions/)\n",
    "\n",
    "环的做法思路:是把环拆成两个队列，一个是从0到n-1，另一个是从1到n，然后返回两个结果最大的。"
   ]
  },
  {
   "cell_type": "code",
   "execution_count": null,
   "metadata": {},
   "outputs": [],
   "source": [
    "class Solution(object):\n",
    "    def get_max_rob(self,nums):\n",
    "        dp = [0]*(len(nums)+1)\n",
    "        for i in range(len(nums)+1):\n",
    "            if i == 0:\n",
    "                dp[i] = 0\n",
    "            elif i==1:\n",
    "                dp[i] = nums[0]\n",
    "            else:\n",
    "                dp[i] = max(dp[i-1],dp[i-2]+nums[i-1])\n",
    "        return dp[-1]\n",
    "\n",
    "    def rob(self, nums):\n",
    "        \"\"\"\n",
    "        :type nums: List[int]\n",
    "        :rtype: int\n",
    "        \"\"\"\n",
    "        if len(nums)==1:\n",
    "            return nums[0] \n",
    "        return max(self.get_max_rob(nums[:-1]),self.get_max_rob(nums[1:]))"
   ]
  },
  {
   "cell_type": "markdown",
   "metadata": {},
   "source": [
    "# [最小路径和](https://leetcode-cn.com/problems/minimum-path-sum/description/)"
   ]
  },
  {
   "cell_type": "code",
   "execution_count": 21,
   "metadata": {},
   "outputs": [],
   "source": [
    "class Solution(object):\n",
    "    def minPathSum(self, grid):\n",
    "        \"\"\"\n",
    "        :type grid: List[List[int]]\n",
    "        :rtype: int\n",
    "        \"\"\"\n",
    "        m,n = len(grid),len(grid[0])\n",
    "        dp = [[0 for _ in range(n)] for _ in range(m)]\n",
    "        for i in range(m):\n",
    "            for j in range(n):\n",
    "                if i==0 and j==0:\n",
    "                    dp[i][j] = grid[i][j]\n",
    "                elif (i==0 and j!=0):\n",
    "                    dp[i][j] = grid[i][j]+dp[i][j-1]\n",
    "                elif (j==0 and i!=0):\n",
    "                    dp[i][j] = grid[i][j]+dp[i-1][j]\n",
    "                else:\n",
    "                    dp[i][j] = min(dp[i-1][j]+grid[i][j],dp[i][j-1]+grid[i][j])\n",
    "        return dp[m-1][n-1]"
   ]
  },
  {
   "cell_type": "markdown",
   "metadata": {},
   "source": [
    "# [不同路径](https://leetcode-cn.com/problems/unique-paths/)"
   ]
  },
  {
   "cell_type": "code",
   "execution_count": 52,
   "metadata": {},
   "outputs": [],
   "source": [
    "class Solution(object):\n",
    "    def uniquePaths(self, m, n):\n",
    "        \"\"\"\n",
    "        :type m: int\n",
    "        :type n: int\n",
    "        :rtype: int\n",
    "        \"\"\"\n",
    "        dp = [[0 for _ in range(n)] for _ in range(m)]\n",
    "        for i in range(m):\n",
    "            for j in range(n):\n",
    "                if(i==0)or(j==0):\n",
    "                    dp[i][j] = 1\n",
    "                else:\n",
    "                    dp[i][j] = dp[i-1][j]+dp[i][j-1]\n",
    "        return dp[m-1][n-1]"
   ]
  },
  {
   "cell_type": "code",
   "execution_count": null,
   "metadata": {},
   "outputs": [],
   "source": []
  }
 ],
 "metadata": {
  "kernelspec": {
   "display_name": "Python 3",
   "language": "python",
   "name": "python3"
  },
  "language_info": {
   "codemirror_mode": {
    "name": "ipython",
    "version": 3
   },
   "file_extension": ".py",
   "mimetype": "text/x-python",
   "name": "python",
   "nbconvert_exporter": "python",
   "pygments_lexer": "ipython3",
   "version": "3.7.4"
  }
 },
 "nbformat": 4,
 "nbformat_minor": 2
}
