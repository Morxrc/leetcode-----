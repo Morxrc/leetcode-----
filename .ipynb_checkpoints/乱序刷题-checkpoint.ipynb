{
 "cells": [
  {
   "cell_type": "markdown",
   "metadata": {},
   "source": [
    "# [回文数](https://leetcode-cn.com/problems/palindrome-number/comments/)\n",
    "\n",
    "反转以后的数同本数相同"
   ]
  },
  {
   "cell_type": "code",
   "execution_count": null,
   "metadata": {},
   "outputs": [],
   "source": [
    "class Solution(object):\n",
    "    def isPalindrome(self, x):\n",
    "        \"\"\"\n",
    "        :type x: int\n",
    "        :rtype: bool\n",
    "        \"\"\"\n",
    "        try:\n",
    "            return x==int(str(x)[::-1])\n",
    "        except:\n",
    "            return False"
   ]
  },
  {
   "cell_type": "markdown",
   "metadata": {},
   "source": [
    "# [整数反转](https://leetcode-cn.com/problems/reverse-integer/)"
   ]
  },
  {
   "cell_type": "code",
   "execution_count": 19,
   "metadata": {},
   "outputs": [],
   "source": [
    "class Solution(object):\n",
    "    def reverse(self, x):\n",
    "        \"\"\"\n",
    "        :type x: int\n",
    "        :rtype: int\n",
    "        \"\"\"\n",
    "        try:\n",
    "            x =  int(str(x)[::-1])\n",
    "        except:\n",
    "            x = -int(str(x)[::-1][:-1])\n",
    "        if x<-2**31 or x>2**31-1:\n",
    "            return 0 \n",
    "        return x"
   ]
  },
  {
   "cell_type": "markdown",
   "metadata": {},
   "source": [
    "# [罗马数字转整数](https://leetcode-cn.com/problems/roman-to-integer/)\n",
    "\n",
    "如果左边小于右边则减去否则加上"
   ]
  },
  {
   "cell_type": "code",
   "execution_count": 27,
   "metadata": {},
   "outputs": [],
   "source": [
    "class Solution(object):\n",
    "    def romanToInt(self, s):\n",
    "        \"\"\"\n",
    "        :type s: str\n",
    "        :rtype: int\n",
    "        \"\"\"\n",
    "        dic_ = {\"I\":1,\"V\":5,\"X\":10,\"L\":50,\"C\":100,\"D\":500,\"M\":1000}\n",
    "        sum_ = 0\n",
    "        for i in range(len(s)-1):\n",
    "            if dic_[s[i]]<dic_[s[i+1]]:\n",
    "                sum_ -= dic_[s[i]]\n",
    "            else:\n",
    "                sum_ += dic_[s[i]]\n",
    "        sum_ += dic_[s[-1]]\n",
    "        return sum_"
   ]
  },
  {
   "cell_type": "code",
   "execution_count": null,
   "metadata": {},
   "outputs": [],
   "source": []
  }
 ],
 "metadata": {
  "kernelspec": {
   "display_name": "Python 3",
   "language": "python",
   "name": "python3"
  },
  "language_info": {
   "codemirror_mode": {
    "name": "ipython",
    "version": 3
   },
   "file_extension": ".py",
   "mimetype": "text/x-python",
   "name": "python",
   "nbconvert_exporter": "python",
   "pygments_lexer": "ipython3",
   "version": "3.7.4"
  }
 },
 "nbformat": 4,
 "nbformat_minor": 2
}
