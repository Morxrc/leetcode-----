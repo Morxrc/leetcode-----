{
 "cells": [
  {
   "cell_type": "markdown",
   "metadata": {},
   "source": [
    "## 贪心思想\n",
    "\n",
    "保证每次的操作都是局部最优的，并且最后得到的是全局最优"
   ]
  },
  {
   "cell_type": "markdown",
   "metadata": {},
   "source": [
    "# [分发饼干](https://leetcode-cn.com/problems/assign-cookies/submissions/)"
   ]
  },
  {
   "cell_type": "code",
   "execution_count": 38,
   "metadata": {},
   "outputs": [],
   "source": [
    "class Solution(object):\n",
    "    def findContentChildren(self, g, s):\n",
    "        \"\"\"\n",
    "        :type g: List[int]\n",
    "        :type s: List[int]\n",
    "        :rtype: int\n",
    "        \"\"\"\n",
    "        g.sort()\n",
    "        s.sort()\n",
    "        re,j = 0,0\n",
    "        for i in range(len(s)):\n",
    "            if j >= len(g):break\n",
    "            elif s[i] >= g[j]:\n",
    "                re+=1\n",
    "                j+=1\n",
    "        return re\n"
   ]
  },
  {
   "cell_type": "markdown",
   "metadata": {},
   "source": [
    "按照区间的结尾进行排序，每一次选择结尾最小且与前面不重叠的区间\n",
    "\n",
    "# [无重叠区间](https://leetcode-cn.com/problems/non-overlapping-intervals/submissions/)"
   ]
  },
  {
   "cell_type": "code",
   "execution_count": 128,
   "metadata": {},
   "outputs": [],
   "source": [
    "from collections import defaultdict\n",
    "class Solution(object):\n",
    "    def eraseOverlapIntervals(self, intervals):\n",
    "        \"\"\"\n",
    "        :type intervals: List[List[int]]\n",
    "        :rtype: int\n",
    "        \"\"\"\n",
    "        a = intervals\n",
    "        total = len(a)\n",
    "        dict_a = defaultdict(list)\n",
    "        for i in range(len(a)):\n",
    "            dict_a[a[i][1]].append(a[i][0])\n",
    "            \n",
    "        dict_a = sorted(dict_a.items())\n",
    "\n",
    "        re = 0\n",
    "        lst = -1e9\n",
    "        for i in range(len(dict_a)):\n",
    "            temp = dict_a[i][1]\n",
    "            temp.sort()\n",
    "            for j in temp:\n",
    "                if j>=lst:\n",
    "                    lst = dict_a[i][0]\n",
    "                    re+=1\n",
    "                    break\n",
    "        return total-re"
   ]
  },
  {
   "cell_type": "markdown",
   "metadata": {},
   "source": [
    "# [用最少数量的箭引爆气球](https://leetcode-cn.com/problems/minimum-number-of-arrows-to-burst-balloons/solution/)"
   ]
  },
  {
   "cell_type": "code",
   "execution_count": 156,
   "metadata": {},
   "outputs": [
    {
     "data": {
      "text/plain": [
       "2"
      ]
     },
     "execution_count": 156,
     "metadata": {},
     "output_type": "execute_result"
    }
   ],
   "source": [
    "from collections import defaultdict\n",
    "class Solution(object):\n",
    "    def findMinArrowShots(self, points):\n",
    "        \"\"\"\n",
    "        :type points: List[List[int]]\n",
    "        :rtype: int\n",
    "        \"\"\"\n",
    "        a = points\n",
    "        total = len(a)\n",
    "        dict_a = defaultdict(list)\n",
    "        for i in range(len(a)):\n",
    "            dict_a[a[i][1]].append(a[i][0])\n",
    "        dict_a = sorted(dict_a.items())\n",
    "\n",
    "        lst = -1e19\n",
    "        re = 0\n",
    "        for i in range(len(dict_a)):\n",
    "            temp = dict_a[i][1]\n",
    "            temp.sort()\n",
    "            for j in temp:\n",
    "                if j<= lst:\n",
    "                    re+=1\n",
    "                else:\n",
    "                    lst = dict_a[i][0]\n",
    "        return total-re"
   ]
  },
  {
   "cell_type": "code",
   "execution_count": null,
   "metadata": {},
   "outputs": [],
   "source": []
  }
 ],
 "metadata": {
  "kernelspec": {
   "display_name": "Python 3",
   "language": "python",
   "name": "python3"
  },
  "language_info": {
   "codemirror_mode": {
    "name": "ipython",
    "version": 3
   },
   "file_extension": ".py",
   "mimetype": "text/x-python",
   "name": "python",
   "nbconvert_exporter": "python",
   "pygments_lexer": "ipython3",
   "version": "3.7.4"
  }
 },
 "nbformat": 4,
 "nbformat_minor": 2
}
