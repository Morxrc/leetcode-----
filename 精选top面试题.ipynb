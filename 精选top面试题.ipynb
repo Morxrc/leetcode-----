{
 "cells": [
  {
   "cell_type": "markdown",
   "metadata": {},
   "source": [
    "# [加一](https://leetcode-cn.com/problems/plus-one/)\n",
    "\n",
    "求求宁记得还有个东西叫map好么。。写的太蠢了"
   ]
  },
  {
   "cell_type": "code",
   "execution_count": null,
   "metadata": {},
   "outputs": [],
   "source": [
    "class Solution(object):\n",
    "    def plusOne(self, digits):\n",
    "        \"\"\"\n",
    "        :type digits: List[int]\n",
    "        :rtype: List[int]\n",
    "        \"\"\"\n",
    "        return [int(i) for i in str(int(\"\".join([str(i) for i in digits]))+1)]"
   ]
  },
  {
   "cell_type": "markdown",
   "metadata": {},
   "source": [
    "# [位1的个数](https://leetcode-cn.com/problems/number-of-1-bits/)"
   ]
  },
  {
   "cell_type": "code",
   "execution_count": null,
   "metadata": {},
   "outputs": [],
   "source": [
    "class Solution(object):\n",
    "    def hammingWeight(self, n):\n",
    "        \"\"\"\n",
    "        :type n: int\n",
    "        :rtype: int\n",
    "        \"\"\"\n",
    "        return str(bin(n)).count('1')"
   ]
  },
  {
   "cell_type": "markdown",
   "metadata": {},
   "source": [
    "# [杨辉三角](https://leetcode-cn.com/problems/pascals-triangle/submissions/)\n",
    "错一位再逐个相加，"
   ]
  },
  {
   "cell_type": "code",
   "execution_count": 92,
   "metadata": {},
   "outputs": [],
   "source": [
    "class Solution(object):\n",
    "    def generate(self, numRows):\n",
    "        \"\"\"\n",
    "        :type numRows: int\n",
    "        :rtype: List[List[int]]\n",
    "        \"\"\"\n",
    "        if numRows == 0:\n",
    "            return []\n",
    "        re_ = [[1]]\n",
    "        for i in range(1,numRows):\n",
    "            temp,temp1 = [0],re_[-1]\n",
    "            temp.extend(re_[i-1])\n",
    "            temp1 = temp1+[0]       \n",
    "            re_.append(list(map(lambda x :x[0]+x[1] ,zip(temp,temp1))))\n",
    "        return re_"
   ]
  },
  {
   "cell_type": "markdown",
   "metadata": {},
   "source": [
    "# [Excel表列序号](https://leetcode-cn.com/problems/excel-sheet-column-number/)"
   ]
  },
  {
   "cell_type": "code",
   "execution_count": 122,
   "metadata": {},
   "outputs": [],
   "source": [
    "class Solution(object):\n",
    "    def titleToNumber(self, s):\n",
    "        \"\"\"\n",
    "        :type s: str\n",
    "        :rtype: int\n",
    "        \"\"\"\n",
    "        re_ = 0\n",
    "        for exp,i in enumerate(s[::-1]):\n",
    "            re_ += (ord(i) - ord(\"A\") + 1)*26**exp\n",
    "        return re_"
   ]
  },
  {
   "cell_type": "markdown",
   "metadata": {},
   "source": [
    "# [Fizz Buzz](https://leetcode-cn.com/problems/fizz-buzz/)"
   ]
  },
  {
   "cell_type": "code",
   "execution_count": null,
   "metadata": {},
   "outputs": [],
   "source": [
    "class Solution(object):\n",
    "    def fizzBuzz(self, n):\n",
    "        \"\"\"\n",
    "        :type n: int\n",
    "        :rtype: List[str]\n",
    "        \"\"\"\n",
    "        re_ = []\n",
    "        for i in range(1,n+1):\n",
    "            if i%3==0 and i%5==0:\n",
    "                re_.append(\"FizzBuzz\")\n",
    "                continue\n",
    "            if i%3==0:\n",
    "                re_.append(\"Fizz\")\n",
    "            elif i%5==0:\n",
    "                re_.append(\"Buzz\")\n",
    "            else:\n",
    "                re_.append(str(i))\n",
    "\n",
    "        return re_"
   ]
  },
  {
   "cell_type": "markdown",
   "metadata": {},
   "source": [
    "# [快乐数](https://leetcode-cn.com/problems/happy-number/submissions/)"
   ]
  },
  {
   "cell_type": "code",
   "execution_count": null,
   "metadata": {},
   "outputs": [],
   "source": [
    "class Solution(object):\n",
    "    def isHappy(self, n):\n",
    "        \"\"\"\n",
    "        :type n: int\n",
    "        :rtype: bool\n",
    "        \"\"\"\n",
    "        re_ = []\n",
    "        while(n not in re_):\n",
    "            sum_=0\n",
    "            re_.append(n)\n",
    "            for i in str(n):\n",
    "                sum_ += int(i)**2\n",
    "            if sum_ == 1:\n",
    "                return True\n",
    "            n = sum_\n",
    "        return False"
   ]
  },
  {
   "cell_type": "markdown",
   "metadata": {},
   "source": [
    "# [缺失数字](https://leetcode-cn.com/problems/missing-number/submissions/)"
   ]
  },
  {
   "cell_type": "code",
   "execution_count": null,
   "metadata": {},
   "outputs": [],
   "source": [
    "class Solution(object):\n",
    "    def missingNumber(self, nums):\n",
    "        \"\"\"\n",
    "        :type nums: List[int]\n",
    "        :rtype: int\n",
    "        \"\"\"\n",
    "        return sum([i for i in range(len(nums)+1)]) - sum(nums)"
   ]
  },
  {
   "cell_type": "code",
   "execution_count": null,
   "metadata": {},
   "outputs": [],
   "source": []
  },
  {
   "cell_type": "code",
   "execution_count": null,
   "metadata": {},
   "outputs": [],
   "source": []
  },
  {
   "cell_type": "code",
   "execution_count": null,
   "metadata": {},
   "outputs": [],
   "source": []
  }
 ],
 "metadata": {
  "kernelspec": {
   "display_name": "Python 3",
   "language": "python",
   "name": "python3"
  },
  "language_info": {
   "codemirror_mode": {
    "name": "ipython",
    "version": 3
   },
   "file_extension": ".py",
   "mimetype": "text/x-python",
   "name": "python",
   "nbconvert_exporter": "python",
   "pygments_lexer": "ipython3",
   "version": "3.7.4"
  }
 },
 "nbformat": 4,
 "nbformat_minor": 2
}
