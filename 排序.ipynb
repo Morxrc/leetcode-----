{
 "cells": [
  {
   "cell_type": "markdown",
   "metadata": {},
   "source": [
    "# [数组中的第K个最大元素](https://leetcode-cn.com/problems/kth-largest-element-in-an-array/submissions/)"
   ]
  },
  {
   "cell_type": "code",
   "execution_count": null,
   "metadata": {},
   "outputs": [],
   "source": [
    "class Solution(object):\n",
    "    def findKthLargest(self, nums, k):\n",
    "        \"\"\"\n",
    "        :type nums: List[int]\n",
    "        :type k: int\n",
    "        :rtype: int\n",
    "        \"\"\"\n",
    "        nums.sort()\n",
    "        return nums[-k]"
   ]
  },
  {
   "cell_type": "markdown",
   "metadata": {},
   "source": [
    "#  [前 K 个高频元素](https://leetcode-cn.com/problems/top-k-frequent-elements/solution/)"
   ]
  },
  {
   "cell_type": "code",
   "execution_count": 6,
   "metadata": {},
   "outputs": [],
   "source": [
    "from collections import Counter\n",
    "\n",
    "class Solution(object):\n",
    "    def topKFrequent(self, nums, k):\n",
    "        \"\"\"\n",
    "        :type nums: List[int]\n",
    "        :type k: int\n",
    "        :rtype: List[int]\n",
    "        \"\"\"\n",
    "        result = []\n",
    "        t = Counter(nums).most_common()\n",
    "        for i in range(k):\n",
    "            result.append(t[i][0])\n",
    "        return result"
   ]
  },
  {
   "cell_type": "markdown",
   "metadata": {},
   "source": [
    "# [根据字符出现频率排序](https://leetcode-cn.com/problems/sort-characters-by-frequency/submissions/)"
   ]
  },
  {
   "cell_type": "code",
   "execution_count": 51,
   "metadata": {},
   "outputs": [],
   "source": [
    "from collections import Counter\n",
    "\n",
    "class Solution(object):\n",
    "    def frequencySort(self, s):\n",
    "        \"\"\"\n",
    "        :type s: str\n",
    "        :rtype: str\n",
    "        \"\"\"\n",
    "        re = \"\"\n",
    "        dict1 = Counter(s)\n",
    "        for char,num in sorted(dict1.items(), key=lambda d: d[1],reverse=True):\n",
    "            re+=char*num\n",
    "        return re"
   ]
  },
  {
   "cell_type": "markdown",
   "metadata": {},
   "source": [
    "# [颜色分类](https://leetcode-cn.com/problems/sort-colors/submissions/)"
   ]
  },
  {
   "cell_type": "code",
   "execution_count": null,
   "metadata": {},
   "outputs": [],
   "source": [
    "class Solution(object):\n",
    "    def sortColors(self, nums):\n",
    "        \"\"\"\n",
    "        :type nums: List[int]\n",
    "        :rtype: None Do not return anything, modify nums in-place instead.\n",
    "        \"\"\"\n",
    "        dict_n = {i:0 for i in range(3)}\n",
    "        for i in range(len(nums)):\n",
    "            dict_n[nums[i]]+=1\n",
    "        nums = []\n",
    "        for i in range(3):\n",
    "            nums.extend([i]*dict_n[i])"
   ]
  }
 ],
 "metadata": {
  "kernelspec": {
   "display_name": "Python 3",
   "language": "python",
   "name": "python3"
  },
  "language_info": {
   "codemirror_mode": {
    "name": "ipython",
    "version": 3
   },
   "file_extension": ".py",
   "mimetype": "text/x-python",
   "name": "python",
   "nbconvert_exporter": "python",
   "pygments_lexer": "ipython3",
   "version": "3.7.4"
  }
 },
 "nbformat": 4,
 "nbformat_minor": 2
}
