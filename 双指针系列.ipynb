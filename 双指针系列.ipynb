{
 "cells": [
  {
   "cell_type": "markdown",
   "metadata": {},
   "source": [
    "## [两数之和](https://leetcode-cn.com/problems/two-sum-ii-input-array-is-sorted/submissions/)"
   ]
  },
  {
   "cell_type": "code",
   "execution_count": null,
   "metadata": {},
   "outputs": [],
   "source": [
    "## 超时\n",
    "class Solution(object):\n",
    "    def twoSum(self, numbers, target):\n",
    "        \"\"\"\n",
    "        :type numbers: List[int]\n",
    "        :type target: int\n",
    "        :rtype: List[int]\n",
    "        \"\"\"\n",
    "        result = []\n",
    "        for idx,num in enumerate(numbers):\n",
    "            if target-num in numbers:\n",
    "                if target==num*2:\n",
    "                    return [idx+1,idx+2]\n",
    "                else:\n",
    "                    return [idx+1,numbers.index(target-num)+1]\n",
    "#乖乖使用双指针...                \n",
    "class Solution(object):\n",
    "    def twoSum(self, numbers, target):\n",
    "        \"\"\"\n",
    "        :type numbers: List[int]\n",
    "        :type target: int\n",
    "        :rtype: List[int]\n",
    "        \"\"\"\n",
    "        s_t = 0\n",
    "        l_t = len(numbers)-1\n",
    "        sum_ = 0\n",
    "        while(s_t!=l_t):\n",
    "            if (numbers[s_t]+numbers[l_t]==target):\n",
    "                return [s_t+1,l_t+1]\n",
    "            elif (numbers[s_t]+numbers[l_t]>target):\n",
    "                l_t-=1\n",
    "            else:\n",
    "                s_t+=1"
   ]
  },
  {
   "cell_type": "markdown",
   "metadata": {},
   "source": [
    "# [移除元素]()"
   ]
  },
  {
   "cell_type": "code",
   "execution_count": null,
   "metadata": {},
   "outputs": [],
   "source": [
    "class Solution(object):\n",
    "    def removeElement(self, nums, val):\n",
    "        \"\"\"\n",
    "        :type nums: List[int]\n",
    "        :type val: int\n",
    "        :rtype: int\n",
    "        \"\"\"\n",
    "        try:\n",
    "            while(1):\n",
    "                nums.remove(val)\n",
    "        except:\n",
    "            return len(nums)"
   ]
  },
  {
   "cell_type": "markdown",
   "metadata": {},
   "source": [
    "## [平方数之和](https://leetcode-cn.com/problems/sum-of-square-numbers/comments/)"
   ]
  },
  {
   "cell_type": "code",
   "execution_count": null,
   "metadata": {},
   "outputs": [],
   "source": [
    "import numpy as np\n",
    "\n",
    "class Solution(object):\n",
    "    def judgeSquareSum(self, c):\n",
    "        \"\"\"\n",
    "        :type c: int\n",
    "        :rtype: bool\n",
    "        \"\"\"\n",
    "        left = 0\n",
    "        right = int(np.sqrt(c))\n",
    "        while(left<=right):\n",
    "            if left**2 + right**2 == c:\n",
    "                return True\n",
    "            elif left**2 + right**2 < c:\n",
    "                left += 1\n",
    "            else:\n",
    "                right -= 1\n",
    "        return False"
   ]
  },
  {
   "cell_type": "markdown",
   "metadata": {},
   "source": [
    "# [反转元音字母](https://leetcode-cn.com/problems/reverse-vowels-of-a-string/submissions/)"
   ]
  },
  {
   "cell_type": "code",
   "execution_count": null,
   "metadata": {},
   "outputs": [],
   "source": [
    "#list: 7516mm\n",
    "#set:  7194mm\n",
    "#str:  1825mm"
   ]
  },
  {
   "cell_type": "code",
   "execution_count": 57,
   "metadata": {},
   "outputs": [],
   "source": [
    "class Solution(object):\n",
    "    def reverseVowels(self, s):\n",
    "        \"\"\"\n",
    "        :type s: str\n",
    "        :rtype: str\n",
    "        \"\"\"\n",
    "        vowel_list = [\"a\",\"o\",\"e\",\"i\",\"u\",\"A\",\"O\",\"E\",\"I\",\"U\"]\n",
    "        left = 0\n",
    "        right = len(s)-1\n",
    "        s = list(s)\n",
    "        while(left<=right):\n",
    "            while s[left] not in vowel_list & left <=right:\n",
    "                left+=1\n",
    "            while s[right] not in vowel_list & left <=right:\n",
    "                right-=1\n",
    "            temp = s[left]\n",
    "            s[left] = s[right]\n",
    "            s[right] = temp\n",
    "            left+=1\n",
    "            right-=1\n",
    "        return \"\".join(s)\n",
    "    \n",
    "# more faster\n",
    "class Solution(object):\n",
    "    def reverseVowels(self, s):\n",
    "        \"\"\"\n",
    "        :type s: str\n",
    "        :rtype: str\n",
    "        \"\"\"\n",
    "        vowel_list = \"aoeiuAOEIU\"\n",
    "        left = 0\n",
    "        right = len(s)-1\n",
    "        s = list(s)\n",
    "        while(left<right):\n",
    "            while (s[left] not in vowel_list) & (left <right):\n",
    "                left+=1\n",
    "            while (s[right] not in vowel_list) & (left <right):\n",
    "                right-=1\n",
    "            temp = s[left]\n",
    "            s[left] = s[right]\n",
    "            s[right] = temp\n",
    "            left+=1\n",
    "            right-=1\n",
    "        return \"\".join(s)"
   ]
  },
  {
   "cell_type": "markdown",
   "metadata": {},
   "source": [
    "# [验证回文字符串](https://leetcode-cn.com/problems/valid-palindrome-ii/submissions/)"
   ]
  },
  {
   "cell_type": "code",
   "execution_count": 68,
   "metadata": {},
   "outputs": [],
   "source": [
    "class Solution(object):\n",
    "    def is_hui(self,s,i,j):\n",
    "        while(i<j):\n",
    "            if s[i]!=s[j]:\n",
    "                return False\n",
    "            i+=1\n",
    "            j-=1\n",
    "        return True\n",
    "\n",
    "    def validPalindrome(self, s):\n",
    "        \"\"\"\n",
    "        :type s: str\n",
    "        :rtype: bool\n",
    "        \"\"\"\n",
    "        left = 0\n",
    "        right = len(s)-1\n",
    "        while(left<right):\n",
    "            if s[left]!=s[right]:\n",
    "                return self.is_hui(s,left+1,right)|self.is_hui(s,left,right-1)\n",
    "            left += 1\n",
    "            right -= 1\n",
    "        return True"
   ]
  },
  {
   "cell_type": "markdown",
   "metadata": {},
   "source": [
    "# [合并两个有序数组](https://leetcode-cn.com/problems/merge-sorted-array/comments/)"
   ]
  },
  {
   "cell_type": "code",
   "execution_count": null,
   "metadata": {},
   "outputs": [],
   "source": [
    "# pythonic code\n",
    "class Solution(object):\n",
    "    def merge(self, nums1, m, nums2, n):\n",
    "        \"\"\"\n",
    "        :type nums1: List[int]\n",
    "        :type m: int\n",
    "        :type nums2: List[int]\n",
    "        :type n: int\n",
    "        :rtype: None Do not return anything, modify nums1 in-place instead.\n",
    "        \"\"\"\n",
    "        nums1[m:] = nums2\n",
    "        nums1.sort()"
   ]
  },
  {
   "cell_type": "markdown",
   "metadata": {},
   "source": [
    "# [环形链表](https://leetcode-cn.com/problems/linked-list-cycle/)\n",
    "链表题先判断是否为空\n"
   ]
  },
  {
   "cell_type": "code",
   "execution_count": null,
   "metadata": {},
   "outputs": [],
   "source": [
    "# Definition for singly-linked list.\n",
    "# class ListNode(object):\n",
    "#     def __init__(self, x):\n",
    "#         self.val = x\n",
    "#         self.next = None\n",
    "\n",
    "class Solution(object):\n",
    "    def hasCycle(self, head):\n",
    "        \"\"\"\n",
    "        :type head: ListNode\n",
    "        :rtype: bool\n",
    "        两个指针,一个指针每次移动一个节点,另外一个每次移动两个节点,如果存在环，\n",
    "        那么两个指针将一定会相遇\n",
    "        \"\"\"\n",
    "        if head == None or head.next == None:\n",
    "            return False\n",
    "        l1 = head\n",
    "        l2 = head.next\n",
    "        while(l2!=None and l2.next!=None):\n",
    "            if l1==l2:\n",
    "                return True\n",
    "            l1 = l1.next\n",
    "            l2 = l2.next.next\n",
    "        return False\n"
   ]
  },
  {
   "cell_type": "markdown",
   "metadata": {},
   "source": [
    "# [通过删除字母匹配到字典里最长单词](https://leetcode-cn.com/problems/longest-word-in-dictionary-through-deleting/)"
   ]
  },
  {
   "cell_type": "code",
   "execution_count": 82,
   "metadata": {},
   "outputs": [],
   "source": [
    "class Solution(object):\n",
    "    def is_Subtr(self,s,str_):\n",
    "        j = 0\n",
    "        for i in range(len(s)):\n",
    "            if j==len(str_):\n",
    "                return True\n",
    "            if s[i]==str_[j]:\n",
    "                j+=1\n",
    "        return False\n",
    "\n",
    "    def findLongestWord(self, s, d):\n",
    "        \"\"\"\n",
    "        :type s: str\n",
    "        :type d: List[str]\n",
    "        :rtype: str\n",
    "        \"\"\"\n",
    "        d = sorted(d,reverse=True)\n",
    "        maxlen = 0\n",
    "        ans = \"\"\n",
    "        for word in d:\n",
    "            if len(word)>=maxlen and self.is_Subtr(word,s):\n",
    "                maxlen =len(word)\n",
    "                ans =word\n",
    "        return ans"
   ]
  },
  {
   "cell_type": "code",
   "execution_count": null,
   "metadata": {},
   "outputs": [],
   "source": []
  }
 ],
 "metadata": {
  "kernelspec": {
   "display_name": "Python 3",
   "language": "python",
   "name": "python3"
  },
  "language_info": {
   "codemirror_mode": {
    "name": "ipython",
    "version": 3
   },
   "file_extension": ".py",
   "mimetype": "text/x-python",
   "name": "python",
   "nbconvert_exporter": "python",
   "pygments_lexer": "ipython3",
   "version": "3.7.4"
  }
 },
 "nbformat": 4,
 "nbformat_minor": 2
}
